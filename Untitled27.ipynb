{
  "nbformat": 4,
  "nbformat_minor": 0,
  "metadata": {
    "colab": {
      "provenance": []
    },
    "kernelspec": {
      "name": "python3",
      "display_name": "Python 3"
    },
    "language_info": {
      "name": "python"
    }
  },
  "cells": [
    {
      "cell_type": "code",
      "execution_count": 1,
      "metadata": {
        "id": "LA3exYhZNClR",
        "colab": {
          "base_uri": "https://localhost:8080/"
        },
        "outputId": "10005964-b296-4651-b3a8-259d3242609e"
      },
      "outputs": [
        {
          "output_type": "stream",
          "name": "stdout",
          "text": [
            "1\n",
            "2\n",
            "3\n",
            "sum\n"
          ]
        }
      ],
      "source": [
        "a = int(input())\n",
        "b = int(input())\n",
        "c = int(input())\n",
        "sum = a + b + c\n",
        "print('sum')"
      ]
    },
    {
      "cell_type": "code",
      "source": [
        "x=int(input())\n",
        "if x % 2 == 0:\n",
        "   print (\"Even\")\n",
        "else:\n",
        "  print (\"odd\")\n"
      ],
      "metadata": {
        "colab": {
          "base_uri": "https://localhost:8080/"
        },
        "id": "sO8UzHnqQYjP",
        "outputId": "96805f23-a29f-4608-8d3b-90ba6ef92882"
      },
      "execution_count": 3,
      "outputs": [
        {
          "output_type": "stream",
          "name": "stdout",
          "text": [
            "3\n",
            "odd\n"
          ]
        }
      ]
    },
    {
      "cell_type": "code",
      "source": [
        "year = int(input(\"Enter year: \"))\n",
        "\n",
        "if year % 4 == 0 and (year % 100 != 0 or year % 400 == 0):\n",
        "    print(\"Leap Year\")\n",
        "else:\n",
        "    print(\"Not Leap Year\")"
      ],
      "metadata": {
        "colab": {
          "base_uri": "https://localhost:8080/"
        },
        "id": "qNYDQmatQhk3",
        "outputId": "ad949681-8015-4f8c-82b0-756528ccced6"
      },
      "execution_count": 4,
      "outputs": [
        {
          "output_type": "stream",
          "name": "stdout",
          "text": [
            "Enter year: 1956\n",
            "Leap Year\n"
          ]
        }
      ]
    },
    {
      "cell_type": "code",
      "source": [
        "l = int(input(\"Enter first number: \"))\n",
        "s = int(input(\"Enter second number: \"))\n",
        "gcd = l % s\n",
        "print('gcd')\n",
        "lcm = (l * s) / gcd\n",
        "print('lcm')\n",
        "\n",
        "\n"
      ],
      "metadata": {
        "colab": {
          "base_uri": "https://localhost:8080/"
        },
        "id": "IFhOYSg6Q4Rs",
        "outputId": "0c11aea7-9df1-482e-fb5f-67e3a559acb8"
      },
      "execution_count": 5,
      "outputs": [
        {
          "output_type": "stream",
          "name": "stdout",
          "text": [
            "Enter first number: 5\n",
            "Enter second number: 6\n",
            "gcd\n",
            "lcm\n"
          ]
        }
      ]
    },
    {
      "cell_type": "code",
      "source": [],
      "metadata": {
        "id": "b7X4QNFvRc-2"
      },
      "execution_count": null,
      "outputs": []
    }
  ]
}